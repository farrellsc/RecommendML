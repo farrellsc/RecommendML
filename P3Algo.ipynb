{
 "cells": [
  {
   "cell_type": "markdown",
   "metadata": {},
   "source": [
    "###  Imports"
   ]
  },
  {
   "cell_type": "code",
   "execution_count": 11,
   "metadata": {},
   "outputs": [],
   "source": [
    "import numpy as np\n",
    "import pickle\n",
    "import tqdm\n",
    "import matplotlib.pyplot as plt"
   ]
  },
  {
   "cell_type": "markdown",
   "metadata": {},
   "source": [
    "### Data "
   ]
  },
  {
   "cell_type": "code",
   "execution_count": 63,
   "metadata": {},
   "outputs": [],
   "source": [
    "class myDataset:\n",
    "    def __init__(self, data):\n",
    "        self.data = data\n",
    "    \n",
    "    def __iter__(self):\n",
    "        for i in range(0, self.data.shape[0]):\n",
    "            yield self.data[i, :]\n",
    "            \n",
    "    def __len__(self):\n",
    "        return self.data.shape[0]\n",
    "            \n",
    "    def getX(self):\n",
    "        return self.data[:, :-1]\n",
    "    \n",
    "    def getY(self):\n",
    "        return self.data[:, -1]\n",
    "\n",
    "\n",
    "class CVdataloader:\n",
    "    def __init__(self, cv, datapath, filename):\n",
    "        self.cv = cv\n",
    "        self.datapath = datapath\n",
    "        self.filename = filename\n",
    "        self.data = pickle.load(open(datapath + \"/\" + filename, \"rb\"))[:, :-1]\n",
    "        self.userNum = len(np.unique(self.data[:, 0]))\n",
    "        self.movieNum = len(np.unique(self.data[:, 1]))\n",
    "        self.seperates = list(range(0, self.data.shape[0], int((self.data.shape[0]-1)/self.cv)))\n",
    "        self.seperates[-1] = self.data.shape[0]\n",
    "        \n",
    "    def __iter__(self):\n",
    "        \"\"\"\n",
    "        return train dataset, test dataset for a cv round\n",
    "        \"\"\"\n",
    "        for i in range(self.cv):\n",
    "            testData = self.data[self.seperates[i]:self.seperates[i+1], :]\n",
    "            trainData = np.vstack([self.data[0:self.seperates[i], :], self.data[self.seperates[i+1]:, :]])\n",
    "            yield myDataset(trainData), myDataset(testData)"
   ]
  },
  {
   "cell_type": "markdown",
   "metadata": {},
   "source": [
    "### Model"
   ]
  },
  {
   "cell_type": "code",
   "execution_count": 98,
   "metadata": {},
   "outputs": [],
   "source": [
    "class classifier:\n",
    "    def __init__(self, dim, userNum, movieNum, epoch, lr):\n",
    "        self.dim = dim\n",
    "        self.epoch = epoch\n",
    "        self.lr = lr\n",
    "        self.userNum = userNum\n",
    "        self.movieNum = movieNum\n",
    "        self.userW = np.abs(np.random.randn(userNum, dim)) * 0.01\n",
    "        self.movieW = np.abs(np.random.randn(movieNum, dim)) * 0.01\n",
    "    \n",
    "    def train(self, dataset: myDataset) -> list:\n",
    "        \"\"\"\n",
    "        input: train dataset\n",
    "        return: loss history by epoch as a list\n",
    "        \"\"\"\n",
    "        loss_history = []\n",
    "        for i in tqdm.tqdm_notebook(range(self.epoch)):\n",
    "            preds = []\n",
    "            for batch_ind, (userInd, movieInd, rating) in enumerate(dataset):\n",
    "                userInd, movieInd = int(userInd), int(movieInd)\n",
    "                pred = self.predict(userInd, movieInd)\n",
    "                preds.append(pred)\n",
    "                userG = 2 * lr * (rating - pred) * self.movieW[movieInd, :]\n",
    "                movieG = 2 * lr * (rating - pred) * self.userW[userInd, :]\n",
    "                self.userW[userInd, :] += userG\n",
    "                self.movieW[movieInd, :] += movieG\n",
    "            loss_history.append(self.calc_loss(dataset.getY().flatten(), np.array(preds)).sum() / len(dataset))\n",
    "        return loss_history\n",
    "                    \n",
    "    def predict(self, userInd, movieInd):\n",
    "        \"\"\"\n",
    "        make prediction for one sample\n",
    "        \"\"\"\n",
    "        return np.dot(self.userW[userInd, :], self.movieW[movieInd, :].T)\n",
    "    \n",
    "    def evaluate(self, dataset: myDataset) -> float:\n",
    "        \"\"\"\n",
    "        input: test dataset\n",
    "        output: loss sum on current test set\n",
    "        \"\"\"\n",
    "        loss_sum = 0\n",
    "        for userInd, movieInd, rating in dataset:\n",
    "            userInd, movieInd = int(userInd), int(movieInd)\n",
    "            pred = self.predict(userInd, movieInd)\n",
    "            loss_sum += self.calc_loss(rating, pred)\n",
    "        return loss_sum / len(dataset)\n",
    "    \n",
    "    @staticmethod\n",
    "    def calc_loss(true, pred):\n",
    "        return (true - pred) ** 2"
   ]
  },
  {
   "cell_type": "markdown",
   "metadata": {},
   "source": [
    "### Scripts"
   ]
  },
  {
   "cell_type": "code",
   "execution_count": 79,
   "metadata": {},
   "outputs": [],
   "source": [
    "dim = 10\n",
    "cv = 3\n",
    "epoch = 10\n",
    "lr = 0.01\n",
    "datapath = \"/media/zzhuang/00091EA2000FB1D0/iGit/git_projects/RecommendML/data\"\n",
    "filename = \"movie_ratings_nudged\"\n",
    "figpath = \"\""
   ]
  },
  {
   "cell_type": "code",
   "execution_count": 99,
   "metadata": {},
   "outputs": [
    {
     "data": {
      "application/vnd.jupyter.widget-view+json": {
       "model_id": "beb3f6e481a449fcae26f1911c2ebe01",
       "version_major": 2,
       "version_minor": 0
      },
      "text/html": [
       "<p>Failed to display Jupyter Widget of type <code>HBox</code>.</p>\n",
       "<p>\n",
       "  If you're reading this message in the Jupyter Notebook or JupyterLab Notebook, it may mean\n",
       "  that the widgets JavaScript is still loading. If this message persists, it\n",
       "  likely means that the widgets JavaScript library is either not installed or\n",
       "  not enabled. See the <a href=\"https://ipywidgets.readthedocs.io/en/stable/user_install.html\">Jupyter\n",
       "  Widgets Documentation</a> for setup instructions.\n",
       "</p>\n",
       "<p>\n",
       "  If you're reading this message in another frontend (for example, a static\n",
       "  rendering on GitHub or <a href=\"https://nbviewer.jupyter.org/\">NBViewer</a>),\n",
       "  it may mean that your frontend doesn't currently support widgets.\n",
       "</p>\n"
      ],
      "text/plain": [
       "HBox(children=(IntProgress(value=0, max=10), HTML(value='')))"
      ]
     },
     "metadata": {},
     "output_type": "display_data"
    },
    {
     "name": "stdout",
     "output_type": "stream",
     "text": [
      "\n",
      "----------------------CV 1-----------------------\n",
      "loss avg: 13.636749\n"
     ]
    },
    {
     "data": {
      "image/png": "[encoded data removed]",
      "text/plain": [
       "<matplotlib.figure.Figure at 0x7f142439f860>"
      ]
     },
     "metadata": {},
     "output_type": "display_data"
    },
    {
     "data": {
      "application/vnd.jupyter.widget-view+json": {
       "model_id": "ab7cd6d40d6042198b82edaad13e1004",
       "version_major": 2,
       "version_minor": 0
      },
      "text/html": [
       "<p>Failed to display Jupyter Widget of type <code>HBox</code>.</p>\n",
       "<p>\n",
       "  If you're reading this message in the Jupyter Notebook or JupyterLab Notebook, it may mean\n",
       "  that the widgets JavaScript is still loading. If this message persists, it\n",
       "  likely means that the widgets JavaScript library is either not installed or\n",
       "  not enabled. See the <a href=\"https://ipywidgets.readthedocs.io/en/stable/user_install.html\">Jupyter\n",
       "  Widgets Documentation</a> for setup instructions.\n",
       "</p>\n",
       "<p>\n",
       "  If you're reading this message in another frontend (for example, a static\n",
       "  rendering on GitHub or <a href=\"https://nbviewer.jupyter.org/\">NBViewer</a>),\n",
       "  it may mean that your frontend doesn't currently support widgets.\n",
       "</p>\n"
      ],
      "text/plain": [
       "HBox(children=(IntProgress(value=0, max=10), HTML(value='')))"
      ]
     },
     "metadata": {},
     "output_type": "display_data"
    },
    {
     "name": "stdout",
     "output_type": "stream",
     "text": [
      "\n",
      "----------------------CV 2-----------------------\n",
      "loss avg: 13.000120\n"
     ]
    },
    {
     "data": {
      "image/png": "[encoded data removed]",
      "text/plain": [
       "<matplotlib.figure.Figure at 0x7f14144ef208>"
      ]
     },
     "metadata": {},
     "output_type": "display_data"
    },
    {
     "data": {
      "application/vnd.jupyter.widget-view+json": {
       "model_id": "603dfe1d4ca447c49fd75cd6a88f7658",
       "version_major": 2,
       "version_minor": 0
      },
      "text/html": [
       "<p>Failed to display Jupyter Widget of type <code>HBox</code>.</p>\n",
       "<p>\n",
       "  If you're reading this message in the Jupyter Notebook or JupyterLab Notebook, it may mean\n",
       "  that the widgets JavaScript is still loading. If this message persists, it\n",
       "  likely means that the widgets JavaScript library is either not installed or\n",
       "  not enabled. See the <a href=\"https://ipywidgets.readthedocs.io/en/stable/user_install.html\">Jupyter\n",
       "  Widgets Documentation</a> for setup instructions.\n",
       "</p>\n",
       "<p>\n",
       "  If you're reading this message in another frontend (for example, a static\n",
       "  rendering on GitHub or <a href=\"https://nbviewer.jupyter.org/\">NBViewer</a>),\n",
       "  it may mean that your frontend doesn't currently support widgets.\n",
       "</p>\n"
      ],
      "text/plain": [
       "HBox(children=(IntProgress(value=0, max=10), HTML(value='')))"
      ]
     },
     "metadata": {},
     "output_type": "display_data"
    },
    {
     "name": "stdout",
     "output_type": "stream",
     "text": [
      "\n",
      "----------------------CV 3-----------------------\n",
      "loss avg: 12.717573\n"
     ]
    },
    {
     "data": {
      "image/png": "[encoded data removed]",
      "text/plain": [
       "<matplotlib.figure.Figure at 0x7f14144b9f60>"
      ]
     },
     "metadata": {},
     "output_type": "display_data"
    },
    {
     "name": "stdout",
     "output_type": "stream",
     "text": [
      "----------------------summary-----------------------\n",
      "CV loss avg list: [13.63674919570715, 13.000119660713077, 12.717573149649999]\n"
     ]
    }
   ],
   "source": [
    "data_loader = CVdataloader(cv, datapath, filename)\n",
    "loss_avg_list = []\n",
    "for cvRound, (trainData, validData) in enumerate(data_loader):\n",
    "    model = classifier(dim, data_loader.userNum, data_loader.movieNum, epoch, lr)\n",
    "    loss_history = model.train(trainData)\n",
    "    loss_avg_list.append(model.evaluate(validData))\n",
    "    print(\"----------------------CV %d-----------------------\" % (cvRound+1))\n",
    "    print(\"loss avg: %f\" % loss_avg_list[-1])\n",
    "    plt.plot(range(len(loss_history)), loss_history)\n",
    "    plt.xlabel(\"epoch\")\n",
    "    plt.xlim(xmin=0)\n",
    "    plt.ylabel(\"loss avg\")\n",
    "    plt.ylim(ymin=0)\n",
    "    plt.title(\"loss history by epoch\")\n",
    "    plt.show()\n",
    "\n",
    "print(\"----------------------summary-----------------------\" )\n",
    "print(\"CV loss avg list:\", loss_avg_list)"
   ]
  }
 ],
 "metadata": {
  "kernelspec": {
   "display_name": "Python 3",
   "language": "python",
   "name": "python3"
  },
  "language_info": {
   "codemirror_mode": {
    "name": "ipython",
    "version": 3
   },
   "file_extension": ".py",
   "mimetype": "text/x-python",
   "name": "python",
   "nbconvert_exporter": "python",
   "pygments_lexer": "ipython3",
   "version": "3.6.4"
  }
 },
 "nbformat": 4,
 "nbformat_minor": 2
}
